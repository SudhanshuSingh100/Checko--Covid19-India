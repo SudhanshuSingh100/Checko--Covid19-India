{
 "cells": [
  {
   "cell_type": "code",
   "execution_count": 15,
   "metadata": {},
   "outputs": [],
   "source": [
    "import os\n",
    "from tabulate import tabulate\n",
    "from bs4 import BeautifulSoup\n",
    "import sys\n",
    "import requests\n",
    "import numpy as np\n",
    "import matplotlib.pyplot as plt\n"
   ]
  },
  {
   "cell_type": "code",
   "execution_count": 16,
   "metadata": {},
   "outputs": [],
   "source": [
    "# 2. Extract data from the website"
   ]
  },
  {
   "cell_type": "code",
   "execution_count": 23,
   "metadata": {},
   "outputs": [
    {
     "name": "stdout",
     "output_type": "stream",
     "text": [
      "Total Cases : \n",
      "[['1', 'Andaman and Nicobar Islands', '1', '0', '0', '0'], ['2', 'Andhra Pradesh', '12', '0', '1', '0'], ['3', 'Bihar', '6', '0', '0', '1'], ['4', 'Chandigarh', '7', '0', '0', '0'], ['5', 'Chhattisgarh', '6', '0', '0', '0'], ['6', 'Delhi', '35', '1', '6', '1'], ['7', 'Goa', '3', '0', '0', '0'], ['8', 'Gujarat', '42', '1', '0', '3'], ['9', 'Haryana', '16', '14', '11', '0'], ['10', 'Himachal Pradesh', '3', '0', '0', '1'], ['11', 'Jammu and Kashmir', '13', '0', '1', '1'], ['12', 'Karnataka', '55', '0', '3', '2'], ['13', 'Kerala', '129', '8', '11', '0'], ['14', 'Ladakh', '13', '0', '3', '0'], ['15', 'Madhya Pradesh', '20', '0', '0', '1'], ['16', 'Maharashtra', '127', '3', '15', '4'], ['17', 'Manipur', '1', '0', '0', '0'], ['18', 'Mizoram', '1', '0', '0', '0'], ['19', 'Odisha', '2', '0', '0', '0'], ['20', 'Puducherry', '1', '0', '0', '0'], ['21', 'Punjab', '33', '0', '0', '1'], ['22', 'Rajasthan', '39', '2', '3', '0'], ['23', 'Tamil Nadu', '23', '6', '1', '1'], ['24', 'Telengana', '35', '10', '1', '0'], ['25', 'Uttarakhand', '4', '1', '0', '0'], ['26', 'Uttar Pradesh', '40', '1', '11', '0'], ['27', 'West Bengal', '10', '0', '0', '1'], ['', 'Total number of confirmed cases in India', '677#', '47 ', '67', '17']]\n"
     ]
    }
   ],
   "source": [
    "extract_contents = lambda row: [x.text.replace('\\n','') for x in row]\n",
    "URL = 'https://www.mohfw.gov.in/'\n",
    "SHORT_HEADERS =['SNo', 'State', 'India-Confirmed','Foreign-Confirmed','Cured/Discharge','Death']\n",
    "response = requests.get(URL).content\n",
    "soup = BeautifulSoup(response,'html.parser')\n",
    "header = extract_contents(soup.tr.find_all('th'))\n",
    "stats = []\n",
    "all_rows = soup.find_all('tr')\n",
    "for row in all_rows:\n",
    "    stat = extract_contents(row.find_all('td'))\n",
    "    if stat:\n",
    "        if len(stat) == 5:\n",
    "            # for last row \n",
    "            stat = ['', *stat]\n",
    "            stats.append(stat)\n",
    "        elif(len(stat) == 6):\n",
    "            stats.append(stat)\n",
    "print(\"Total Cases : \\n\" + str(stats))            \n",
    "#stats[-1][0] = \"Summery : \"\n",
    "x = stats[-1]\n",
    "stats.remove(stats[-1])\n",
    "\n"
   ]
  },
  {
   "cell_type": "code",
   "execution_count": 18,
   "metadata": {},
   "outputs": [],
   "source": [
    "# 3.table formation"
   ]
  },
  {
   "cell_type": "code",
   "execution_count": 24,
   "metadata": {},
   "outputs": [
    {
     "name": "stdout",
     "output_type": "stream",
     "text": [
      "  SNo  State                          India-Confirmed    Foreign-Confirmed    Cured/Discharge    Death\n",
      "-----  ---------------------------  -----------------  -------------------  -----------------  -------\n",
      "    1  Andaman and Nicobar Islands                  1                    0                  0        0\n",
      "    2  Andhra Pradesh                              12                    0                  1        0\n",
      "    3  Bihar                                        6                    0                  0        1\n",
      "    4  Chandigarh                                   7                    0                  0        0\n",
      "    5  Chhattisgarh                                 6                    0                  0        0\n",
      "    6  Delhi                                       35                    1                  6        1\n",
      "    7  Goa                                          3                    0                  0        0\n",
      "    8  Gujarat                                     42                    1                  0        3\n",
      "    9  Haryana                                     16                   14                 11        0\n",
      "   10  Himachal Pradesh                             3                    0                  0        1\n",
      "   11  Jammu and Kashmir                           13                    0                  1        1\n",
      "   12  Karnataka                                   55                    0                  3        2\n",
      "   13  Kerala                                     129                    8                 11        0\n",
      "   14  Ladakh                                      13                    0                  3        0\n",
      "   15  Madhya Pradesh                              20                    0                  0        1\n",
      "   16  Maharashtra                                127                    3                 15        4\n",
      "   17  Manipur                                      1                    0                  0        0\n",
      "   18  Mizoram                                      1                    0                  0        0\n",
      "   19  Odisha                                       2                    0                  0        0\n",
      "   20  Puducherry                                   1                    0                  0        0\n",
      "   21  Punjab                                      33                    0                  0        1\n",
      "   22  Rajasthan                                   39                    2                  3        0\n",
      "   23  Tamil Nadu                                  23                    6                  1        1\n",
      "   24  Telengana                                   35                   10                  1        0\n",
      "   25  Uttarakhand                                  4                    1                  0        0\n",
      "   26  Uttar Pradesh                               40                    1                 11        0\n",
      "   27  West Bengal                                 10                    0                  0        1\n"
     ]
    }
   ],
   "source": [
    "objects = []\n",
    "for row in stats:\n",
    "    objects.append(row[1])\n",
    "y_pos = np.arange(len(objects))\n",
    "performance = []\n",
    "for row in stats:\n",
    "    performance.append(int(row[2]) + int(row[3]))\n",
    "\n",
    "table = tabulate(stats, headers = SHORT_HEADERS)\n",
    "print(table)\n"
   ]
  },
  {
   "cell_type": "code",
   "execution_count": 47,
   "metadata": {},
   "outputs": [
    {
     "name": "stdout",
     "output_type": "stream",
     "text": [
      "Summery     India-Confirmed       Foreign-Confirmed       Cured/Discharge      Death  \n",
      " Total          677#                47                         67              17\n"
     ]
    }
   ],
   "source": [
    "\n",
    "print('Summery     India-Confirmed       Foreign-Confirmed       Cured/Discharge      Death  ')\n",
    "#print(x) \n",
    "print(\" \"+\"Total\"+\"          \"+x[2]+\"                \"+x[3]+\"                        \"+x[4]+\"              \"+x[5])\n",
    "\n"
   ]
  },
  {
   "cell_type": "code",
   "execution_count": 43,
   "metadata": {},
   "outputs": [
    {
     "data": {
      "image/png": "[encoded data removed]",
      "text/plain": [
       "<Figure size 432x288 with 1 Axes>"
      ]
     },
     "metadata": {
      "needs_background": "light"
     },
     "output_type": "display_data"
    }
   ],
   "source": [
    "# 4.plot the graph\n",
    "\n",
    "plt.barh(y_pos, performance, align= \"center\", alpha=0.5, color = (234/256.0,128/256.0,252/256.0),edgecolor = (106/256.0,27/256.0,154/256.0))\n",
    "\n",
    "plt.yticks(y_pos, objects)\n",
    "plt.xlim(1,150)\n",
    "plt.xlabel(\"Number of cases\")\n",
    "plt.ylabel(\"States Name\")\n",
    "plt.title(\"Corona Virus Cases\")\n",
    "plt.show()"
   ]
  },
  {
   "cell_type": "code",
   "execution_count": null,
   "metadata": {},
   "outputs": [],
   "source": []
  },
  {
   "cell_type": "code",
   "execution_count": null,
   "metadata": {},
   "outputs": [],
   "source": []
  }
 ],
 "metadata": {
  "kernelspec": {
   "display_name": "Python 3",
   "language": "python",
   "name": "python3"
  },
  "language_info": {
   "codemirror_mode": {
    "name": "ipython",
    "version": 3
   },
   "file_extension": ".py",
   "mimetype": "text/x-python",
   "name": "python",
   "nbconvert_exporter": "python",
   "pygments_lexer": "ipython3",
   "version": "3.7.1"
  }
 },
 "nbformat": 4,
 "nbformat_minor": 2
}
